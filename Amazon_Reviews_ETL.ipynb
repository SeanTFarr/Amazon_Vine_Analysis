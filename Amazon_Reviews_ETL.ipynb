{
  "cells": [
    {
      "cell_type": "code",
      "execution_count": 1,
      "metadata": {
        "colab": {
          "base_uri": "https://localhost:8080/"
        },
        "id": "V58rxea0HqSa",
        "outputId": "a4f1e025-8fc1-4b9e-89ee-44727ee7317c"
      },
      "outputs": [
        {
          "name": "stdout",
          "output_type": "stream",
          "text": [
            "\r0% [Working]\r            \rGet:1 https://cloud.r-project.org/bin/linux/ubuntu bionic-cran40/ InRelease [3,626 B]\n",
            "Ign:2 https://developer.download.nvidia.com/compute/cuda/repos/ubuntu1804/x86_64  InRelease\n",
            "Get:3 http://security.ubuntu.com/ubuntu bionic-security InRelease [88.7 kB]\n",
            "Get:4 http://ppa.launchpad.net/c2d4u.team/c2d4u4.0+/ubuntu bionic InRelease [15.9 kB]\n",
            "Hit:5 http://archive.ubuntu.com/ubuntu bionic InRelease\n",
            "Ign:6 https://developer.download.nvidia.com/compute/machine-learning/repos/ubuntu1804/x86_64  InRelease\n",
            "Hit:7 https://developer.download.nvidia.com/compute/cuda/repos/ubuntu1804/x86_64  Release\n",
            "Hit:8 https://developer.download.nvidia.com/compute/machine-learning/repos/ubuntu1804/x86_64  Release\n",
            "Get:9 http://archive.ubuntu.com/ubuntu bionic-updates InRelease [88.7 kB]\n",
            "Hit:10 http://ppa.launchpad.net/cran/libgit2/ubuntu bionic InRelease\n",
            "Get:11 https://cloud.r-project.org/bin/linux/ubuntu bionic-cran40/ Packages [73.9 kB]\n",
            "Get:12 http://ppa.launchpad.net/deadsnakes/ppa/ubuntu bionic InRelease [15.9 kB]\n",
            "Get:13 http://archive.ubuntu.com/ubuntu bionic-backports InRelease [74.6 kB]\n",
            "Hit:14 http://ppa.launchpad.net/graphics-drivers/ppa/ubuntu bionic InRelease\n",
            "Get:17 http://ppa.launchpad.net/c2d4u.team/c2d4u4.0+/ubuntu bionic/main Sources [1,820 kB]\n",
            "Get:18 http://security.ubuntu.com/ubuntu bionic-security/restricted amd64 Packages [691 kB]\n",
            "Get:19 http://ppa.launchpad.net/c2d4u.team/c2d4u4.0+/ubuntu bionic/main amd64 Packages [933 kB]\n",
            "Get:20 http://security.ubuntu.com/ubuntu bionic-security/main amd64 Packages [2,461 kB]\n",
            "Get:21 http://security.ubuntu.com/ubuntu bionic-security/universe amd64 Packages [1,452 kB]\n",
            "Get:22 http://archive.ubuntu.com/ubuntu bionic-updates/main amd64 Packages [2,898 kB]\n",
            "Get:23 http://archive.ubuntu.com/ubuntu bionic-updates/universe amd64 Packages [2,230 kB]\n",
            "Get:24 http://archive.ubuntu.com/ubuntu bionic-backports/universe amd64 Packages [12.6 kB]\n",
            "Get:25 http://archive.ubuntu.com/ubuntu bionic-backports/main amd64 Packages [11.6 kB]\n",
            "Get:26 http://ppa.launchpad.net/deadsnakes/ppa/ubuntu bionic/main amd64 Packages [45.9 kB]\n",
            "Fetched 12.9 MB in 6s (2,101 kB/s)\n",
            "Reading package lists... Done\n"
          ]
        }
      ],
      "source": [
        "import os\n",
        "# Find the latest version of spark 3.0 from http://www.apache.org/dist/spark/ and enter as the spark version\n",
        "# For example:\n",
        "# spark_version = 'spark-3.0.3'\n",
        "spark_version = 'spark-3.0.3'\n",
        "os.environ['SPARK_VERSION']=spark_version\n",
        "\n",
        "# Install Spark and Java\n",
        "!apt-get update\n",
        "!apt-get install openjdk-11-jdk-headless -qq > /dev/null\n",
        "!wget -q http://www.apache.org/dist/spark/$SPARK_VERSION/$SPARK_VERSION-bin-hadoop2.7.tgz\n",
        "!tar xf $SPARK_VERSION-bin-hadoop2.7.tgz\n",
        "!pip install -q findspark\n",
        "\n",
        "# Set Environment Variables\n",
        "import os\n",
        "os.environ[\"JAVA_HOME\"] = \"/usr/lib/jvm/java-11-openjdk-amd64\"\n",
        "os.environ[\"SPARK_HOME\"] = f\"/content/{spark_version}-bin-hadoop2.7\"\n",
        "\n",
        "# Start a SparkSession\n",
        "import findspark\n",
        "findspark.init()"
      ]
    },
    {
      "cell_type": "code",
      "execution_count": 2,
      "metadata": {
        "colab": {
          "base_uri": "https://localhost:8080/"
        },
        "id": "_xKwTpATHqSe",
        "outputId": "b37058a9-6f6f-4eab-aec8-c595057f977f"
      },
      "outputs": [
        {
          "name": "stdout",
          "output_type": "stream",
          "text": [
            "--2021-12-17 00:13:25--  https://jdbc.postgresql.org/download/postgresql-42.2.16.jar\n",
            "Resolving jdbc.postgresql.org (jdbc.postgresql.org)... 72.32.157.228, 2001:4800:3e1:1::228\n",
            "Connecting to jdbc.postgresql.org (jdbc.postgresql.org)|72.32.157.228|:443... connected.\n",
            "HTTP request sent, awaiting response... 200 OK\n",
            "Length: 1002883 (979K) [application/java-archive]\n",
            "Saving to: ‘postgresql-42.2.16.jar’\n",
            "\n",
            "postgresql-42.2.16. 100%[===================>] 979.38K  --.-KB/s    in 0.1s    \n",
            "\n",
            "2021-12-17 00:13:25 (6.53 MB/s) - ‘postgresql-42.2.16.jar’ saved [1002883/1002883]\n",
            "\n"
          ]
        }
      ],
      "source": [
        "# Download the Postgres driver that will allow Spark to interact with Postgres.\n",
        "!wget https://jdbc.postgresql.org/download/postgresql-42.2.16.jar"
      ]
    },
    {
      "cell_type": "code",
      "execution_count": 3,
      "metadata": {
        "id": "MMqDAjVS0KN9"
      },
      "outputs": [],
      "source": [
        "from pyspark.sql import SparkSession\n",
        "spark = SparkSession.builder.appName(\"M16-Amazon-Challenge\").config(\"spark.driver.extraClassPath\",\"/content/postgresql-42.2.16.jar\").getOrCreate()"
      ]
    },
    {
      "cell_type": "markdown",
      "metadata": {
        "id": "cyBsySGuY-9V"
      },
      "source": [
        "### Load Amazon Data into Spark DataFrame"
      ]
    },
    {
      "cell_type": "code",
      "execution_count": 4,
      "metadata": {
        "colab": {
          "base_uri": "https://localhost:8080/"
        },
        "id": "CtCmBhQJY-9Z",
        "outputId": "efd26302-9bf8-4a68-de6b-c5bb2a0a5cf2"
      },
      "outputs": [
        {
          "name": "stdout",
          "output_type": "stream",
          "text": [
            "+-----------+-----------+--------------+----------+--------------+--------------------+----------------+-----------+-------------+-----------+----+-----------------+--------------------+--------------------+-----------+\n",
            "|marketplace|customer_id|     review_id|product_id|product_parent|       product_title|product_category|star_rating|helpful_votes|total_votes|vine|verified_purchase|     review_headline|         review_body|review_date|\n",
            "+-----------+-----------+--------------+----------+--------------+--------------------+----------------+-----------+-------------+-----------+----+-----------------+--------------------+--------------------+-----------+\n",
            "|         US|   48881148|R215C9BDXTDQOW|B00FR4YQYK|     381800308|SadoTech Model C ...|Home Improvement|          4|            0|          0|   N|                Y|          Four Stars|        good product| 2015-08-31|\n",
            "|         US|   47882936|R1DTPUV1J57YHA|B00439MYYE|     921341748|iSpring T32M 3.2 ...|Home Improvement|          5|            0|          0|   N|                Y|Good price, quick...|Good price, quick...| 2015-08-31|\n",
            "|         US|   44435471| RFAZK5EWKJWOU|B00002N762|      56053291|Schlage F10CS V E...|Home Improvement|          5|            0|          0|   N|                Y|          Five Stars|       Excellent...!| 2015-08-31|\n",
            "|         US|   28377689|R2XT8X0O0WS1AL|B000QFCP1G|     595928517|Citri-Strip QCG73...|Home Improvement|          5|            0|          0|   N|                Y|Although *slightl...|Although *slightl...| 2015-08-31|\n",
            "|         US|   50134766|R14GRNANKO2Y2J|B00WRCRKOI|     417053744|SleekLighting Bul...|Home Improvement|          5|            0|          0|   N|                Y|      Great Adapters|These adapters ar...| 2015-08-31|\n",
            "|         US|   14066511|R2BLF9VYL24LCQ|B00NIH88EW|     275395071|VDOMUS&reg;Exquis...|Home Improvement|          5|            1|          1|   N|                Y|                nice|awesome and great...| 2015-08-31|\n",
            "|         US|   15211046|R1GI9UW5KJ671O|B005B9CI96|     856617815|Frigidaire 316075...|Home Improvement|          5|            0|          0|   N|                Y|          Five Stars|Perfect. Exactly ...| 2015-08-31|\n",
            "|         US|   14862498|R2H5CEJN863M86|B008L0OMWI|     125102494|Anyray® 5-Bulbs 7...|Home Improvement|          5|            0|          1|   N|                Y|So far working gr...|So far working gr...| 2015-08-31|\n",
            "|         US|   23617292| R5PPDHFOZ3SMU|B00P9FTC6O|     523110842|Cambridge 100 pcs...|Home Improvement|          5|            0|          0|   N|                Y|           Ties tie.|Not much to say a...| 2015-08-31|\n",
            "|         US|   35820485| RE1L9IENKJJ7Y|B00K6BQEHQ|     797306964|EUBUY Silver Tone...|Home Improvement|          1|            0|          0|   N|                Y|             GARBAGE|       crap quality.| 2015-08-31|\n",
            "|         US|   47162350|R3CZ0990QC2Z0H|B008BYQCWM|     865874404|Legend 809125 Leg...|Home Improvement|          5|            0|          0|   N|                Y|          Five Stars|  Good. As expected.| 2015-08-31|\n",
            "|         US|   31884789|R3UMMD2IO29QSP|B003BLHTOU|     183592595|Forearm Forklift ...|Home Improvement|          5|            0|          0|   N|                Y|           It works!|My husband and I ...| 2015-08-31|\n",
            "|         US|   43835770| R541LE5J3OJH2|B0065I114K|     185006358|Newer Technology ...|Home Improvement|          5|            0|          0|   N|                Y|          Five Stars|     works perfectly| 2015-08-31|\n",
            "|         US|   26212294|R10KD9FIE6Y1AS|B00J9XB6BQ|      53423207|Rok Hardware 25 P...|Home Improvement|          5|            0|          0|   N|                Y|Banging cabinet d...|Banging cabinet d...| 2015-08-31|\n",
            "|         US|   17876704|R1YT5YG0QG5DCG|B00K36NJ0E|     593464633|Drift Light Using...|Home Improvement|          5|            0|          0|   N|                Y|Great product for...|Great product for...| 2015-08-31|\n",
            "|         US|   22813225|R207LXJWL40V1S|B000ZIEOHW|     833911812|Troy DPH11 Profes...|Home Improvement|          4|            0|          0|   N|                Y|GETTING THE JOB D...|Drywalling our 18...| 2015-08-31|\n",
            "|         US|   25448576| RIDP0ZD7WT9DE|B0009YDHKC|     852173443|Wright Products V...|Home Improvement|          5|            0|          0|   N|                Y|          Five Stars|exact replacement...| 2015-08-31|\n",
            "|         US|   19754503|R2XJSNZ9219U1Z|B00LBGVLS2|     929968058|LiftMaster Garage...|Home Improvement|          5|            0|          0|   N|                Y|Easy to program g...|Works as advertis...| 2015-08-31|\n",
            "|         US|   17767084|R2M9F1FVVDOGFL|B00002N5DY|     830214712|Heath Zenith SL-5...|Home Improvement|          5|            0|          0|   N|                Y|     easy to install|Working well the ...| 2015-08-31|\n",
            "|         US|   48001709|R1QTOSE2BHU2LJ|B000BQOX88|     498022954|Intermatic T101 2...|Home Improvement|          3|            1|          2|   N|                Y|Kind of disappoin...|I connected the r...| 2015-08-31|\n",
            "+-----------+-----------+--------------+----------+--------------+--------------------+----------------+-----------+-------------+-----------+----+-----------------+--------------------+--------------------+-----------+\n",
            "only showing top 20 rows\n",
            "\n"
          ]
        }
      ],
      "source": [
        "from pyspark import SparkFiles\n",
        "url = \"https://s3.amazonaws.com/amazon-reviews-pds/tsv/amazon_reviews_us_Home_Improvement_v1_00.tsv.gz\"\n",
        "spark.sparkContext.addFile(url)\n",
        "df = spark.read.option(\"encoding\", \"UTF-8\").csv(SparkFiles.get(\"amazon_reviews_us_Home_Improvement_v1_00.tsv.gz\"), sep=\"\\t\", header=True, inferSchema=True)\n",
        "df.show()"
      ]
    },
    {
      "cell_type": "markdown",
      "metadata": {
        "id": "2yUSe55VY-9t"
      },
      "source": [
        "### Create DataFrames to match tables"
      ]
    },
    {
      "cell_type": "code",
      "execution_count": 8,
      "metadata": {
        "id": "C8REmY1aY-9u"
      },
      "outputs": [],
      "source": [
        "from pyspark.sql.functions import to_date, count\n",
        "# Read in the Review dataset as a DataFrame\n"
      ]
    },
    {
      "cell_type": "markdown",
      "metadata": {
        "id": "jmPa8RsHBV3z"
      },
      "source": []
    },
    {
      "cell_type": "code",
      "execution_count": 10,
      "metadata": {
        "id": "B0TESUDRY-90"
      },
      "outputs": [],
      "source": [
        "# Create the customers_table DataFrame\n",
        "customers_df = df.groupby(\"customer_id\").agg(count(\"customer_id\")).withColumnRenamed(\"count(customer_id)\", \"customer_count\")"
      ]
    },
    {
      "cell_type": "code",
      "execution_count": null,
      "metadata": {
        "colab": {
          "base_uri": "https://localhost:8080/"
        },
        "id": "rR637fVMD9-I",
        "outputId": "75d145ac-96ea-4f9d-f941-93b1e0c47f19"
      },
      "outputs": [
        {
          "name": "stdout",
          "output_type": "stream",
          "text": [
            "+-----------+--------------+\n",
            "|customer_id|customer_count|\n",
            "+-----------+--------------+\n",
            "|   28377689|             1|\n",
            "|   28258386|             2|\n",
            "|    9967574|             1|\n",
            "|   25153155|             1|\n",
            "|   10088068|             1|\n",
            "|   45657423|             1|\n",
            "|   19021463|             1|\n",
            "|   41413793|             2|\n",
            "|   43789873|             2|\n",
            "|   12406466|             1|\n",
            "|   41045019|             1|\n",
            "|   35535911|             2|\n",
            "|   47108763|             1|\n",
            "|   48113150|             1|\n",
            "|   18201417|             9|\n",
            "|   26079415|             3|\n",
            "|   36114891|             7|\n",
            "|    3712628|             1|\n",
            "|   37499901|             2|\n",
            "|   47321438|             2|\n",
            "+-----------+--------------+\n",
            "only showing top 20 rows\n",
            "\n"
          ]
        }
      ],
      "source": [
        "customers_df.show()"
      ]
    },
    {
      "cell_type": "code",
      "execution_count": 37,
      "metadata": {
        "id": "4FwXA6UvY-96"
      },
      "outputs": [],
      "source": [
        "# Create the products_table DataFrame and drop duplicates. \n",
        "products_df = df.select([\"product_id\", \"product_title\"]).drop_duplicates([\"product_id\"])"
      ]
    },
    {
      "cell_type": "code",
      "execution_count": 38,
      "metadata": {
        "colab": {
          "base_uri": "https://localhost:8080/"
        },
        "id": "zkv10UOcxmj0",
        "outputId": "4f95098e-83e5-4f4f-b10b-bafa1001f5ba"
      },
      "outputs": [
        {
          "name": "stdout",
          "output_type": "stream",
          "text": [
            "+----------+--------------------+\n",
            "|product_id|       product_title|\n",
            "+----------+--------------------+\n",
            "|7800807606|CBconcept Brand H...|\n",
            "|9178907519|IKEA - GAVIK Tabl...|\n",
            "|B00002N70K|Kwikset 293 Small...|\n",
            "|B00002N7BC|Westinghouse 6720...|\n",
            "|B00002NAEP|Westinghouse One-...|\n",
            "|B00002NAVH|Leviton L02-49686...|\n",
            "|B00002NB2F|View-Pak UBIP2020...|\n",
            "|B00004SQLR|Master Lock 1547D...|\n",
            "|B00004WLKJ|Gardner Bender He...|\n",
            "|B00004Y61P|Towing/Recovery S...|\n",
            "|B00004YUN1|Leviton 6697-W An...|\n",
            "|B00004Z4AV|3M 4.875 by 2.875...|\n",
            "|B0000AHSA7|Pollenex DP1011 H...|\n",
            "|B0000BYEF5|CONROS #PM00506 6...|\n",
            "|B0000BYEF6|Lutron Electronic...|\n",
            "|B0000CEZ7C|Northern Industri...|\n",
            "|B0000DBIKH|Brita 42633 Fauce...|\n",
            "|B0000DD0F2|Shop-Vac 905-03-0...|\n",
            "|B0000DEZNE|Dale Adams Enterp...|\n",
            "|B0000DI5II|GE 75 Watt 2 Pack...|\n",
            "+----------+--------------------+\n",
            "only showing top 20 rows\n",
            "\n"
          ]
        }
      ],
      "source": [
        "products_df.show()"
      ]
    },
    {
      "cell_type": "code",
      "execution_count": 39,
      "metadata": {
        "colab": {
          "base_uri": "https://localhost:8080/"
        },
        "id": "5Xne0G5b8z7J",
        "outputId": "1f040072-7a88-498b-826c-a261159be972"
      },
      "outputs": [
        {
          "data": {
            "text/plain": [
              "348848"
            ]
          },
          "execution_count": 39,
          "metadata": {},
          "output_type": "execute_result"
        }
      ],
      "source": [
        "products_df.count()"
      ]
    },
    {
      "cell_type": "code",
      "execution_count": 14,
      "metadata": {
        "id": "MkqyCuNQY-9-"
      },
      "outputs": [],
      "source": [
        "# Create the review_id_table DataFrame. \n",
        "# Convert the 'review_date' column to a date datatype with to_date(\"review_date\", 'yyyy-MM-dd').alias(\"review_date\")\n",
        "review_id_df = df.select([\"review_id\", \"customer_id\", \"product_id\", \"product_parent\", to_date(\"review_date\", 'yyyy-MM-dd').alias(\"review_date\")])"
      ]
    },
    {
      "cell_type": "code",
      "execution_count": 15,
      "metadata": {
        "colab": {
          "base_uri": "https://localhost:8080/"
        },
        "id": "EtBvKKfrz0Ol",
        "outputId": "a3d36777-b935-45ec-cfc4-3d9e7fe16323"
      },
      "outputs": [
        {
          "name": "stdout",
          "output_type": "stream",
          "text": [
            "+--------------+-----------+----------+--------------+-----------+\n",
            "|     review_id|customer_id|product_id|product_parent|review_date|\n",
            "+--------------+-----------+----------+--------------+-----------+\n",
            "|R215C9BDXTDQOW|   48881148|B00FR4YQYK|     381800308| 2015-08-31|\n",
            "|R1DTPUV1J57YHA|   47882936|B00439MYYE|     921341748| 2015-08-31|\n",
            "| RFAZK5EWKJWOU|   44435471|B00002N762|      56053291| 2015-08-31|\n",
            "|R2XT8X0O0WS1AL|   28377689|B000QFCP1G|     595928517| 2015-08-31|\n",
            "|R14GRNANKO2Y2J|   50134766|B00WRCRKOI|     417053744| 2015-08-31|\n",
            "|R2BLF9VYL24LCQ|   14066511|B00NIH88EW|     275395071| 2015-08-31|\n",
            "|R1GI9UW5KJ671O|   15211046|B005B9CI96|     856617815| 2015-08-31|\n",
            "|R2H5CEJN863M86|   14862498|B008L0OMWI|     125102494| 2015-08-31|\n",
            "| R5PPDHFOZ3SMU|   23617292|B00P9FTC6O|     523110842| 2015-08-31|\n",
            "| RE1L9IENKJJ7Y|   35820485|B00K6BQEHQ|     797306964| 2015-08-31|\n",
            "|R3CZ0990QC2Z0H|   47162350|B008BYQCWM|     865874404| 2015-08-31|\n",
            "|R3UMMD2IO29QSP|   31884789|B003BLHTOU|     183592595| 2015-08-31|\n",
            "| R541LE5J3OJH2|   43835770|B0065I114K|     185006358| 2015-08-31|\n",
            "|R10KD9FIE6Y1AS|   26212294|B00J9XB6BQ|      53423207| 2015-08-31|\n",
            "|R1YT5YG0QG5DCG|   17876704|B00K36NJ0E|     593464633| 2015-08-31|\n",
            "|R207LXJWL40V1S|   22813225|B000ZIEOHW|     833911812| 2015-08-31|\n",
            "| RIDP0ZD7WT9DE|   25448576|B0009YDHKC|     852173443| 2015-08-31|\n",
            "|R2XJSNZ9219U1Z|   19754503|B00LBGVLS2|     929968058| 2015-08-31|\n",
            "|R2M9F1FVVDOGFL|   17767084|B00002N5DY|     830214712| 2015-08-31|\n",
            "|R1QTOSE2BHU2LJ|   48001709|B000BQOX88|     498022954| 2015-08-31|\n",
            "+--------------+-----------+----------+--------------+-----------+\n",
            "only showing top 20 rows\n",
            "\n"
          ]
        }
      ],
      "source": [
        "review_id_df.show()"
      ]
    },
    {
      "cell_type": "code",
      "execution_count": 16,
      "metadata": {
        "id": "lzMmkdKmY--D"
      },
      "outputs": [],
      "source": [
        "# Create the vine_table. DataFrame\n",
        "vine_df = df.select([\"review_id\", \"star_rating\", \"helpful_votes\", \"total_votes\", \"vine\", \"verified_purchase\"])"
      ]
    },
    {
      "cell_type": "code",
      "execution_count": 17,
      "metadata": {
        "colab": {
          "base_uri": "https://localhost:8080/"
        },
        "id": "6O-1spRh0nwm",
        "outputId": "1aeb2de4-8eec-44cd-eecc-926428f421f9"
      },
      "outputs": [
        {
          "name": "stdout",
          "output_type": "stream",
          "text": [
            "+--------------+-----------+-------------+-----------+----+-----------------+\n",
            "|     review_id|star_rating|helpful_votes|total_votes|vine|verified_purchase|\n",
            "+--------------+-----------+-------------+-----------+----+-----------------+\n",
            "|R215C9BDXTDQOW|          4|            0|          0|   N|                Y|\n",
            "|R1DTPUV1J57YHA|          5|            0|          0|   N|                Y|\n",
            "| RFAZK5EWKJWOU|          5|            0|          0|   N|                Y|\n",
            "|R2XT8X0O0WS1AL|          5|            0|          0|   N|                Y|\n",
            "|R14GRNANKO2Y2J|          5|            0|          0|   N|                Y|\n",
            "|R2BLF9VYL24LCQ|          5|            1|          1|   N|                Y|\n",
            "|R1GI9UW5KJ671O|          5|            0|          0|   N|                Y|\n",
            "|R2H5CEJN863M86|          5|            0|          1|   N|                Y|\n",
            "| R5PPDHFOZ3SMU|          5|            0|          0|   N|                Y|\n",
            "| RE1L9IENKJJ7Y|          1|            0|          0|   N|                Y|\n",
            "|R3CZ0990QC2Z0H|          5|            0|          0|   N|                Y|\n",
            "|R3UMMD2IO29QSP|          5|            0|          0|   N|                Y|\n",
            "| R541LE5J3OJH2|          5|            0|          0|   N|                Y|\n",
            "|R10KD9FIE6Y1AS|          5|            0|          0|   N|                Y|\n",
            "|R1YT5YG0QG5DCG|          5|            0|          0|   N|                Y|\n",
            "|R207LXJWL40V1S|          4|            0|          0|   N|                Y|\n",
            "| RIDP0ZD7WT9DE|          5|            0|          0|   N|                Y|\n",
            "|R2XJSNZ9219U1Z|          5|            0|          0|   N|                Y|\n",
            "|R2M9F1FVVDOGFL|          5|            0|          0|   N|                Y|\n",
            "|R1QTOSE2BHU2LJ|          3|            1|          2|   N|                Y|\n",
            "+--------------+-----------+-------------+-----------+----+-----------------+\n",
            "only showing top 20 rows\n",
            "\n"
          ]
        }
      ],
      "source": [
        "vine_df.show()"
      ]
    },
    {
      "cell_type": "markdown",
      "metadata": {
        "id": "jITZhLkmY--J"
      },
      "source": [
        "### Connect to the AWS RDS instance and write each DataFrame to its table. "
      ]
    },
    {
      "cell_type": "code",
      "execution_count": 18,
      "metadata": {
        "id": "7jiUvs1aY--L"
      },
      "outputs": [],
      "source": [
        "# Configure settings for RDS\n",
        "mode = \"append\"\n",
        "jdbc_url=\"jdbc:postgresql://endpoint:5432/postgres\"\n",
        "config = {\"user\":\"postgres\", \n",
        "          \"password\": \"password\", \n",
        "          \"driver\":\"org.postgresql.Driver\"}"
      ]
    },
    {
      "cell_type": "code",
      "execution_count": 19,
      "metadata": {
        "id": "T2zgZ-aKY--Q"
      },
      "outputs": [],
      "source": [
        "# Write review_id_df to table in RDS\n",
        "review_id_df.write.jdbc(url=jdbc_url, table='review_id_table', mode=mode, properties=config)"
      ]
    },
    {
      "cell_type": "code",
      "execution_count": 40,
      "metadata": {
        "id": "1m3yzn-LY--U"
      },
      "outputs": [],
      "source": [
        "# Write products_df to table in RDS\n",
        "# about 3 min\n",
        "products_df.write.jdbc(url=jdbc_url, table='products_table', mode=mode, properties=config)"
      ]
    },
    {
      "cell_type": "code",
      "execution_count": 21,
      "metadata": {
        "id": "KbXri15fY--Z"
      },
      "outputs": [],
      "source": [
        "# Write customers_df to table in RDS\n",
        "# 5 min 14 s\n",
        "customers_df.write.jdbc(url=jdbc_url, table='customers_table', mode=mode, properties=config)"
      ]
    },
    {
      "cell_type": "code",
      "execution_count": 22,
      "metadata": {
        "id": "XdQknSHLY--e"
      },
      "outputs": [],
      "source": [
        "# Write vine_df to table in RDS\n",
        "# 11 minutes\n",
        "vine_df.write.jdbc(url=jdbc_url, table='vine_table', mode=mode, properties=config)"
      ]
    },
    {
      "cell_type": "code",
      "execution_count": null,
      "metadata": {
        "id": "Exuo6ebUsCqW"
      },
      "outputs": [],
      "source": []
    }
  ],
  "metadata": {
    "colab": {
      "collapsed_sections": [],
      "name": "Amazon_Reviews_ETL.ipynb",
      "provenance": []
    },
    "kernelspec": {
      "display_name": "Python 3",
      "name": "python3"
    },
    "language_info": {
      "name": "python"
    },
    "nteract": {
      "version": "0.12.3"
    }
  },
  "nbformat": 4,
  "nbformat_minor": 0
}
